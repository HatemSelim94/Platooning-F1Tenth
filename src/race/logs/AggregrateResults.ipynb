{
 "cells": [
  {
   "cell_type": "code",
   "execution_count": 3,
   "metadata": {},
   "outputs": [],
   "source": [
    "import pandas as pd\n",
    "import numpy as np \n",
    "import seaborn as sns\n",
    "import matplotlib.pyplot as plt\n",
    "sns.set_theme(style=\"white\")\n",
    "import os"
   ]
  },
  {
   "cell_type": "code",
   "execution_count": 4,
   "metadata": {},
   "outputs": [],
   "source": [
    "collisions_file_str = \"collisions_{}_{}.csv\"\n",
    "progress_file_str = \"progress_{}_{}.csv\"\n",
    "algorithms = [\"e2e\",\"e2e_all\",\"sac\",\"ddpg\"]\n",
    "tracks = [\"track_porto\",\"track_barca\",\"racecar_walker\"]"
   ]
  },
  {
   "cell_type": "code",
   "execution_count": 18,
   "metadata": {},
   "outputs": [
    {
     "name": "stdout",
     "output_type": "stream",
     "text": [
      "--------------------------------------------------------\n",
      "        laps_completed  time_elapsed algorithm        track\n",
      "mean          2.112351     62.343133       e2e  track_porto\n",
      "median        2.180334     62.324000       e2e  track_porto\n",
      "std           0.250643      0.093819       e2e  track_porto\n",
      "Number of Collisions 0\n",
      "--------------------------------------------------------\n",
      "--------------------------------------------------------\n",
      "        laps_completed  time_elapsed algorithm        track\n",
      "mean          0.490807     55.037033       e2e  track_barca\n",
      "median        0.556542     62.305000       e2e  track_barca\n",
      "std           0.150416     16.548745       e2e  track_barca\n",
      "Number of Collisions 5\n",
      "--------------------------------------------------------\n",
      "--------------------------------------------------------\n",
      "        laps_completed  time_elapsed algorithm           track\n",
      "mean          0.457328     17.730167       e2e  racecar_walker\n",
      "median        0.462877     17.999500       e2e  racecar_walker\n",
      "std           0.021155      0.981322       e2e  racecar_walker\n",
      "Number of Collisions 30\n",
      "--------------------------------------------------------\n",
      "--------------------------------------------------------\n",
      "        laps_completed  time_elapsed algorithm        track\n",
      "mean          2.178259     62.369200   e2e_all  track_porto\n",
      "median        2.178436     62.344000   e2e_all  track_porto\n",
      "std           0.005312      0.102533   e2e_all  track_porto\n",
      "Number of Collisions 0\n",
      "--------------------------------------------------------\n",
      "--------------------------------------------------------\n",
      "        laps_completed  time_elapsed algorithm        track\n",
      "mean          0.563309     62.323567   e2e_all  track_barca\n",
      "median        0.563150     62.316500   e2e_all  track_barca\n",
      "std           0.001329      0.081194   e2e_all  track_barca\n",
      "Number of Collisions 0\n",
      "--------------------------------------------------------\n",
      "--------------------------------------------------------\n",
      "        laps_completed  time_elapsed algorithm           track\n",
      "mean          1.684397     62.326733   e2e_all  racecar_walker\n",
      "median        1.683875     62.323000   e2e_all  racecar_walker\n",
      "std           0.004555      0.045904   e2e_all  racecar_walker\n",
      "Number of Collisions 0\n",
      "--------------------------------------------------------\n",
      "--------------------------------------------------------\n",
      "        laps_completed  time_elapsed algorithm        track\n",
      "mean          2.505340     62.366867       sac  track_porto\n",
      "median        2.505315     62.332500       sac  track_porto\n",
      "std           0.008199      0.134026       sac  track_porto\n",
      "Number of Collisions 0\n",
      "--------------------------------------------------------\n",
      "--------------------------------------------------------\n",
      "        laps_completed  time_elapsed algorithm        track\n",
      "mean          0.109756     13.799733       sac  track_barca\n",
      "median        0.099003     12.693000       sac  track_barca\n",
      "std           0.018479      2.153001       sac  track_barca\n",
      "Number of Collisions 30\n",
      "--------------------------------------------------------\n",
      "--------------------------------------------------------\n",
      "        laps_completed  time_elapsed algorithm           track\n",
      "mean          0.855162     29.404733       sac  racecar_walker\n",
      "median        0.399652     13.280000       sac  racecar_walker\n",
      "std           0.523083     18.909992       sac  racecar_walker\n",
      "Number of Collisions 30\n",
      "--------------------------------------------------------\n",
      "--------------------------------------------------------\n",
      "        laps_completed  time_elapsed algorithm        track\n",
      "mean          2.482789     62.377033      ddpg  track_porto\n",
      "median        2.517084     62.364000      ddpg  track_porto\n",
      "std           0.182894      0.102874      ddpg  track_porto\n",
      "Number of Collisions 0\n",
      "--------------------------------------------------------\n",
      "--------------------------------------------------------\n",
      "        laps_completed  time_elapsed algorithm        track\n",
      "mean          0.142605     17.541133      ddpg  track_barca\n",
      "median        0.142548     17.506500      ddpg  track_barca\n",
      "std           0.000150      0.126967      ddpg  track_barca\n",
      "Number of Collisions 30\n",
      "--------------------------------------------------------\n",
      "--------------------------------------------------------\n",
      "        laps_completed  time_elapsed algorithm           track\n",
      "mean          1.775831     62.369533      ddpg  racecar_walker\n",
      "median        1.774362     62.352500      ddpg  racecar_walker\n",
      "std           0.004627      0.124566      ddpg  racecar_walker\n",
      "Number of Collisions 0\n",
      "--------------------------------------------------------\n"
     ]
    }
   ],
   "source": [
    "collisions_dfs = [] \n",
    "progress_dfs = []\n",
    "for i in algorithms:\n",
    "    for j in tracks:\n",
    "        collision_path = collisions_file_str.format(i,j)\n",
    "        progress_path = progress_file_str.format(i,j)\n",
    "        #print(\"Algorithm:\",i,\"| Track:\",j)\n",
    "        print('--------------------------------------------------------')\n",
    "        df = pd.read_csv(progress_path).iloc[:30].rename(columns=lambda col: col.strip())\n",
    "        df = df[df.columns[:2]].agg(['mean', 'median','std'])\n",
    "        df['algorithm'] = i\n",
    "        df['track'] = j\n",
    "        print(df)\n",
    "        if(os.path.exists(collision_path)):\n",
    "            c_df = pd.read_csv(collision_path).rename(columns=lambda col: col.strip())\n",
    "            col_count = c_df[c_df[\"experiment_number\"]<=30].shape[0]\n",
    "            row = [[i,j,col_count]]\n",
    "            print(\"Number of Collisions\",col_count)\n",
    "        else:\n",
    "            row = [[i,j,0]]\n",
    "            print(\"Number of Collisions\",0)\n",
    "        row_df = pd.DataFrame(row,columns=['algorithm','track','collision_count'])\n",
    "        collisions_dfs.append(row_df)\n",
    "        progress_dfs.append(df)\n",
    "        print('--------------------------------------------------------')"
   ]
  },
  {
   "cell_type": "code",
   "execution_count": 24,
   "metadata": {},
   "outputs": [
    {
     "data": {
      "text/html": [
       "<div>\n",
       "<style scoped>\n",
       "    .dataframe tbody tr th:only-of-type {\n",
       "        vertical-align: middle;\n",
       "    }\n",
       "\n",
       "    .dataframe tbody tr th {\n",
       "        vertical-align: top;\n",
       "    }\n",
       "\n",
       "    .dataframe thead th {\n",
       "        text-align: right;\n",
       "    }\n",
       "</style>\n",
       "<table border=\"1\" class=\"dataframe\">\n",
       "  <thead>\n",
       "    <tr style=\"text-align: right;\">\n",
       "      <th></th>\n",
       "      <th>algorithm</th>\n",
       "      <th>track</th>\n",
       "      <th>collision_count</th>\n",
       "    </tr>\n",
       "  </thead>\n",
       "  <tbody>\n",
       "    <tr>\n",
       "      <th>0</th>\n",
       "      <td>e2e</td>\n",
       "      <td>track_porto</td>\n",
       "      <td>0</td>\n",
       "    </tr>\n",
       "    <tr>\n",
       "      <th>1</th>\n",
       "      <td>e2e</td>\n",
       "      <td>track_barca</td>\n",
       "      <td>5</td>\n",
       "    </tr>\n",
       "    <tr>\n",
       "      <th>2</th>\n",
       "      <td>e2e</td>\n",
       "      <td>racecar_walker</td>\n",
       "      <td>30</td>\n",
       "    </tr>\n",
       "    <tr>\n",
       "      <th>3</th>\n",
       "      <td>e2e_all</td>\n",
       "      <td>track_porto</td>\n",
       "      <td>0</td>\n",
       "    </tr>\n",
       "    <tr>\n",
       "      <th>4</th>\n",
       "      <td>e2e_all</td>\n",
       "      <td>track_barca</td>\n",
       "      <td>0</td>\n",
       "    </tr>\n",
       "    <tr>\n",
       "      <th>5</th>\n",
       "      <td>e2e_all</td>\n",
       "      <td>racecar_walker</td>\n",
       "      <td>0</td>\n",
       "    </tr>\n",
       "    <tr>\n",
       "      <th>6</th>\n",
       "      <td>sac</td>\n",
       "      <td>track_porto</td>\n",
       "      <td>0</td>\n",
       "    </tr>\n",
       "    <tr>\n",
       "      <th>7</th>\n",
       "      <td>sac</td>\n",
       "      <td>track_barca</td>\n",
       "      <td>30</td>\n",
       "    </tr>\n",
       "    <tr>\n",
       "      <th>8</th>\n",
       "      <td>sac</td>\n",
       "      <td>racecar_walker</td>\n",
       "      <td>30</td>\n",
       "    </tr>\n",
       "    <tr>\n",
       "      <th>9</th>\n",
       "      <td>ddpg</td>\n",
       "      <td>track_porto</td>\n",
       "      <td>0</td>\n",
       "    </tr>\n",
       "    <tr>\n",
       "      <th>10</th>\n",
       "      <td>ddpg</td>\n",
       "      <td>track_barca</td>\n",
       "      <td>30</td>\n",
       "    </tr>\n",
       "    <tr>\n",
       "      <th>11</th>\n",
       "      <td>ddpg</td>\n",
       "      <td>racecar_walker</td>\n",
       "      <td>0</td>\n",
       "    </tr>\n",
       "  </tbody>\n",
       "</table>\n",
       "</div>"
      ],
      "text/plain": [
       "   algorithm           track  collision_count\n",
       "0        e2e     track_porto                0\n",
       "1        e2e     track_barca                5\n",
       "2        e2e  racecar_walker               30\n",
       "3    e2e_all     track_porto                0\n",
       "4    e2e_all     track_barca                0\n",
       "5    e2e_all  racecar_walker                0\n",
       "6        sac     track_porto                0\n",
       "7        sac     track_barca               30\n",
       "8        sac  racecar_walker               30\n",
       "9       ddpg     track_porto                0\n",
       "10      ddpg     track_barca               30\n",
       "11      ddpg  racecar_walker                0"
      ]
     },
     "execution_count": 24,
     "metadata": {},
     "output_type": "execute_result"
    }
   ],
   "source": [
    "collisions = pd.concat(collisions_dfs).reset_index().drop(columns=\"index\")\n",
    "collisions"
   ]
  },
  {
   "cell_type": "code",
   "execution_count": 28,
   "metadata": {},
   "outputs": [
    {
     "data": {
      "image/png": "[encoded data removed]",
      "text/plain": [
       "<Figure size 1080x576 with 1 Axes>"
      ]
     },
     "metadata": {
      "needs_background": "light"
     },
     "output_type": "display_data"
    }
   ],
   "source": [
    "plt.figure(figsize=(15,8))\n",
    "ax = sns.barplot(data=collisions, x=\"track\",y=\"collision_count\",hue=\"algorithm\")\n",
    "ax.spines['bottom'].set_color('#dddddd')\n",
    "ax.spines['left'].set_color('#dddddd')\n",
    "sns.despine(left=False, bottom=False, right=True)"
   ]
  },
  {
   "cell_type": "code",
   "execution_count": 36,
   "metadata": {},
   "outputs": [
    {
     "data": {
      "image/png": "[encoded data removed]",
      "text/plain": [
       "<Figure size 1080x576 with 1 Axes>"
      ]
     },
     "metadata": {
      "needs_background": "light"
     },
     "output_type": "display_data"
    }
   ],
   "source": [
    "progress = pd.concat(progress_dfs)\n",
    "\n",
    "plt.figure(figsize=(15,8))\n",
    "ax = sns.barplot(data=progress[progress.index=='mean'], x=\"track\",y=\"laps_completed\",hue=\"algorithm\")\n",
    "ax.spines['bottom'].set_color('#dddddd')\n",
    "ax.spines['left'].set_color('#dddddd')\n",
    "sns.despine(left=False, bottom=False, right=True)"
   ]
  }
 ],
 "metadata": {
  "kernelspec": {
   "display_name": "Python 3",
   "language": "python",
   "name": "python3"
  },
  "language_info": {
   "codemirror_mode": {
    "name": "ipython",
    "version": 3
   },
   "file_extension": ".py",
   "mimetype": "text/x-python",
   "name": "python",
   "nbconvert_exporter": "python",
   "pygments_lexer": "ipython3",
   "version": "3.7.3"
  }
 },
 "nbformat": 4,
 "nbformat_minor": 2
}
